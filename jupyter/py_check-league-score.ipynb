{
 "cells": [
  {
   "cell_type": "code",
   "execution_count": null,
   "metadata": {},
   "outputs": [],
   "source": [
    "import pandas as pd\n",
    "import numpy as np\n",
    "import matplotlib.pyplot as plt\n"
   ]
  },
  {
   "cell_type": "code",
   "execution_count": null,
   "metadata": {},
   "outputs": [],
   "source": [
    "MATCH_CSV = \"/goalimpacct/data_compressed/match/compressed.csv\"\n",
    "rawMatchDF =  pd.read_csv(MATCH_CSV)"
   ]
  },
  {
   "cell_type": "code",
   "execution_count": null,
   "metadata": {},
   "outputs": [],
   "source": [
    "CACHED_DATA_DIR = \"/goalimpacct/spark_data_cache/result_parquet\"\n",
    "rawData =  pd.read_parquet(CACHED_DATA_DIR)"
   ]
  },
  {
   "cell_type": "code",
   "execution_count": null,
   "metadata": {},
   "outputs": [],
   "source": [
    "uniqueLeaguesDF = rawMatchDF.loc[:,[':tournament']].drop_duplicates()"
   ]
  },
  {
   "cell_type": "code",
   "execution_count": null,
   "metadata": {
    "scrolled": true
   },
   "outputs": [],
   "source": [
    "uniqueLeaguesDF"
   ]
  },
  {
   "cell_type": "code",
   "execution_count": null,
   "metadata": {},
   "outputs": [],
   "source": [
    "guestDF = rawMatchDF.loc[:, [':tournament',':saison', ':guest']].rename(columns={':guest' : \":team\"})"
   ]
  },
  {
   "cell_type": "code",
   "execution_count": null,
   "metadata": {},
   "outputs": [],
   "source": [
    "homeDF = rawMatchDF.loc[:, [':tournament',':saison', ':home']].rename(columns={':home' : \":team\"})"
   ]
  },
  {
   "cell_type": "code",
   "execution_count": null,
   "metadata": {
    "scrolled": true
   },
   "outputs": [],
   "source": [
    "teamDF = pd.concat([homeDF, guestDF]).drop_duplicates()\n",
    "teamDF[':team'] = pd.to_numeric(teamDF[':team'], errors='coerce')\n",
    "teamDF = teamDF.dropna(subset=[':team'])\n",
    "teamDF[':team'] = teamDF[':team'].apply(np.int64)\n",
    "teamDF[':team'] = teamDF[':team'].astype(str)\n",
    "teamDF[':saison'] = teamDF[':saison'].astype(str)\n",
    "teamDF"
   ]
  },
  {
   "cell_type": "code",
   "execution_count": null,
   "metadata": {
    "scrolled": true
   },
   "outputs": [],
   "source": [
    "teamSeasonScoreDF = rawData.groupby([':saison', ':team'])[':avgOffPointsLast1Matches'].agg(['mean'])\n",
    "teamSeasonScoreDF = teamSeasonScoreDF.reset_index()\n",
    "\n",
    "teamSeasonScoreDF"
   ]
  },
  {
   "cell_type": "code",
   "execution_count": null,
   "metadata": {
    "scrolled": true
   },
   "outputs": [],
   "source": [
    "tournamentScoresDF = teamSeasonScoreDF.merge(teamDF, on=[':saison', ':team'])\n",
    "tournamentScoresDF = tournamentScoresDF.drop(columns=[':team'])\n",
    "tournamentScoresDF"
   ]
  },
  {
   "cell_type": "code",
   "execution_count": null,
   "metadata": {
    "scrolled": true
   },
   "outputs": [],
   "source": [
    "topNTournamentScoresDF = tournamentScoresDF.groupby([':tournament', \n",
    "                            ':saison'])['mean'].nlargest(5).reset_index()[[':tournament', ':saison', 'mean']]\n",
    "\n",
    "topNTournamentScoresDF.groupby([':tournament', \n",
    "                            ':saison'])['mean'].agg('mean')\n",
    "\n"
   ]
  },
  {
   "cell_type": "code",
   "execution_count": null,
   "metadata": {},
   "outputs": [],
   "source": []
  }
 ],
 "metadata": {
  "kernelspec": {
   "display_name": "Python 3",
   "language": "python",
   "name": "python3"
  },
  "language_info": {
   "codemirror_mode": {
    "name": "ipython",
    "version": 3
   },
   "file_extension": ".py",
   "mimetype": "text/x-python",
   "name": "python",
   "nbconvert_exporter": "python",
   "pygments_lexer": "ipython3",
   "version": "3.7.4"
  }
 },
 "nbformat": 4,
 "nbformat_minor": 2
}
