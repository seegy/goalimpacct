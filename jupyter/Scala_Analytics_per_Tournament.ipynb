{
 "cells": [
  {
   "cell_type": "code",
   "execution_count": null,
   "metadata": {},
   "outputs": [],
   "source": [
    "import $ivy.`org.vegas-viz::vegas:0.3.11`\n",
    "import $ivy.`org.apache.spark::spark-core:2.4.0`\n",
    "import $ivy.`org.apache.spark::spark-sql:2.4.0`\n",
    "import $ivy.`org.vegas-viz::vegas-spark:0.3.11`\n"
   ]
  },
  {
   "cell_type": "code",
   "execution_count": null,
   "metadata": {
    "scrolled": true
   },
   "outputs": [],
   "source": [
    "import org.apache.spark.{SparkConf, SparkContext}\n",
    "import org.apache.spark.sql.{DataFrame, SaveMode, SparkSession}\n",
    "import vegas.sparkExt._\n",
    "import vegas._\n",
    "import org.apache.spark.sql.functions._"
   ]
  },
  {
   "cell_type": "markdown",
   "metadata": {},
   "source": [
    "# Parameters"
   ]
  },
  {
   "cell_type": "code",
   "execution_count": null,
   "metadata": {},
   "outputs": [],
   "source": [
    "val CACHED_DATA_DIR = \"/goalimpacct/spark_data_cache/result_parquet\"\n",
    "\n",
    "val TARGET_TOURNAMENTS = List(\n",
    "    (\"1.Bundesliga\")\n",
    ")\n",
    "\n",
    "val TARGET_SEASONS = List(\n",
    "    (\"2018\")\n",
    ")\n",
    "\n",
    "val TAKE_LAST_X_DATA = 1"
   ]
  },
  {
   "cell_type": "markdown",
   "metadata": {},
   "source": [
    "# Helper Vars"
   ]
  },
  {
   "cell_type": "code",
   "execution_count": null,
   "metadata": {},
   "outputs": [],
   "source": [
    "val playtimeColumn = \":playtimeLast\" + TAKE_LAST_X_DATA + \"Matches\"\n",
    "val totalOffPointsColumn = \":totalOffPointsLast\" + TAKE_LAST_X_DATA + \"Matches\"\n",
    "val totalDefPointsColumn = \":totalDefPointsLast\" + TAKE_LAST_X_DATA + \"Matches\"\n",
    "val avgOffPointsColumn = \":avgOffPointsLast\" + TAKE_LAST_X_DATA + \"Matches\"\n",
    "val avgDefPointsColumn = \":avgDefPointsLast\" + TAKE_LAST_X_DATA + \"Matches\"\n",
    "val totalRankedOffPointsColumn = \":totalRankedOffPointsLast\" + TAKE_LAST_X_DATA + \"Matches\"\n",
    "val totalRankedDefPointsColumn = \":totalRankedDefPointsLast\" + TAKE_LAST_X_DATA + \"Matches\"\n",
    "val avgRankedOffPointsColumn = \":avgRankedOffPointsLast\" + TAKE_LAST_X_DATA + \"Matches\"\n",
    "val avgRankedDefPointsColumn = \":avgRankedDefPointsLast\" + TAKE_LAST_X_DATA + \"Matches\""
   ]
  },
  {
   "cell_type": "markdown",
   "metadata": {},
   "source": [
    "# Create Spark Context"
   ]
  },
  {
   "cell_type": "code",
   "execution_count": null,
   "metadata": {},
   "outputs": [],
   "source": [
    "val conf = new SparkConf()\n",
    "conf.setMaster(s\"local[*]\")\n",
    "conf.setAppName(\"ShowHistory\")\n",
    "conf.set(\"spark.driver.host\", \"localhost\")\n",
    "val sc = new SparkContext(conf)\n",
    "sc.setLogLevel(\"ERROR\")\n",
    "\n",
    "val spark = SparkSession.builder.appName(\"ShowHistory\").getOrCreate()\n"
   ]
  },
  {
   "cell_type": "markdown",
   "metadata": {},
   "source": [
    "# Helper Functions"
   ]
  },
  {
   "cell_type": "code",
   "execution_count": null,
   "metadata": {},
   "outputs": [],
   "source": [
    "def getYearDF(lastMatchDF : DataFrame, spark: SparkSession) : DataFrame = {\n",
    "\n",
    "    import spark.implicits._\n",
    "\n",
    "    val years  = lastMatchDF.withColumn(\"year\", year($\":target-match-timestamp\")).select(\"year\").distinct()\n",
    "    val earliestYear : Int  = years.sort($\"year\".asc).head().get(0).toString.toInt\n",
    "    val latestYear : Int = years.sort($\"year\".desc).head().get(0).toString.toInt\n",
    "    val monthList = (earliestYear to latestYear).toList.flatMap(x => (1 to 12).toList.map(i => x + \"-\" + i + \"-01\"))\n",
    "    val yearDF = monthList.toDF(\"timeString\").withColumn(\"time\", to_date($\"timeString\", \"yyyy-MM-dd\")).select(\"time\")\n",
    "\n",
    "    yearDF\n",
    "}"
   ]
  },
  {
   "cell_type": "markdown",
   "metadata": {},
   "source": [
    "#  Create/Load spark dataframes"
   ]
  },
  {
   "cell_type": "code",
   "execution_count": null,
   "metadata": {},
   "outputs": [],
   "source": [
    "import spark.implicits._    \n",
    "val rawDataDF = spark.sqlContext.read.parquet(CACHED_DATA_DIR)\n",
    "val tournamentMapper = TARGET_TOURNAMENTS.toDF(\":tournament\")\n",
    "val saisonMapper =  TARGET_SEASONS.toDF(\":saison\")"
   ]
  },
  {
   "cell_type": "code",
   "execution_count": null,
   "metadata": {},
   "outputs": [],
   "source": [
    "val allPlayers = rawDataDF.select(\":player\",\":saison\",\":match\",\":team\",\":tournament\",\n",
    "    \":target-match-timestamp\",\n",
    "    playtimeColumn,\n",
    "    totalOffPointsColumn,\n",
    "    totalDefPointsColumn,\n",
    "    avgOffPointsColumn,\n",
    "    avgDefPointsColumn,\n",
    "    totalRankedOffPointsColumn,\n",
    "    totalRankedDefPointsColumn,\n",
    "    avgRankedOffPointsColumn,\n",
    "    avgRankedDefPointsColumn)\n",
    "    .join(saisonMapper, \":saison\")\n",
    "    .join(tournamentMapper, \":tournament\")\n"
   ]
  },
  {
   "cell_type": "code",
   "execution_count": null,
   "metadata": {},
   "outputs": [],
   "source": [
    "val yearDF = getYearDF(allPlayers, spark)\n"
   ]
  },
  {
   "cell_type": "code",
   "execution_count": null,
   "metadata": {},
   "outputs": [],
   "source": [
    "val allPlayersByTimeFrame = allPlayers\n",
    "    .withColumn(\"time\",  to_date( concat_ws(\"-\", year($\":target-match-timestamp\"), month($\":target-match-timestamp\"), lit(\"01\") ), \"yyyy-MM\"))\n",
    "    .groupBy(\":player\", \"time\")\n",
    "    .agg(sum(totalOffPointsColumn).as(\"totalOffNeutralPoints\"),\n",
    "        avg(avgOffPointsColumn).as(\"avgOffNeutralPoints\"),\n",
    "        sum(totalRankedOffPointsColumn).as(\"totalOffRankedPoints\"),\n",
    "        avg(avgRankedOffPointsColumn).as(\"avgOffRankedPoints\"),\n",
    "        sum(totalDefPointsColumn).as(\"totalDefNeutralPoints\"),\n",
    "        avg(avgDefPointsColumn).as(\"avgDefNeutralPoints\"),\n",
    "        sum(totalRankedDefPointsColumn).as(\"totalDefRankedPoints\"),\n",
    "        avg(avgRankedDefPointsColumn).as(\"avgDefRankedPoints\"),\n",
    "        sum(playtimeColumn).as(\"playtime\"))\n"
   ]
  },
  {
   "cell_type": "markdown",
   "metadata": {},
   "source": [
    "# Building avg values of all players"
   ]
  },
  {
   "cell_type": "code",
   "execution_count": null,
   "metadata": {},
   "outputs": [],
   "source": [
    "\n",
    "val avgPlayer = allPlayersByTimeFrame\n",
    "    .groupBy(\"time\")\n",
    "    .agg(avg(\"totalOffNeutralPoints\").as(\"totalOffNeutralPoints\"),\n",
    "        avg(\"avgOffNeutralPoints\").as(\"avgOffNeutralPoints\"),\n",
    "        avg(\"totalOffRankedPoints\").as(\"totalOffRankedPoints\"),\n",
    "        avg(\"avgOffRankedPoints\").as(\"avgOffRankedPoints\"),\n",
    "        avg(\"totalDefNeutralPoints\").as(\"totalDefNeutralPoints\"),\n",
    "        avg(\"avgDefNeutralPoints\").as(\"avgDefNeutralPoints\"),\n",
    "        avg(\"totalDefRankedPoints\").as(\"totalDefRankedPoints\"),\n",
    "        avg(\"avgDefRankedPoints\").as(\"avgDefRankedPoints\"))\n",
    "    .join(yearDF, Seq(\"time\"), \"right_outer\")\n",
    "    .na.fill(0)\n",
    "    .withColumn(\":name\", lit(\"avg\"))\n",
    "\n",
    "avgPlayer.count\n",
    "\n"
   ]
  },
  {
   "cell_type": "markdown",
   "metadata": {},
   "source": [
    "# Aggregate players off values to time frames"
   ]
  },
  {
   "cell_type": "code",
   "execution_count": null,
   "metadata": {},
   "outputs": [],
   "source": [
    "val avgPlayerSeasonPerformance = allPlayersByTimeFrame\n",
    "    .groupBy(\":player\")\n",
    "    .agg(avg(\"totalOffRankedPoints\").as(\"totalOffRankedPoints\"),\n",
    "        avg(\"avgOffRankedPoints\").as(\"avgOffRankedPoints\"),\n",
    "        avg(\"totalDefRankedPoints\").as(\"totalDefRankedPoints\"),\n",
    "        avg(\"avgDefRankedPoints\").as(\"avgDefRankedPoints\"),\n",
    "        sum(\"playtime\").as(\"playtime\"))\n",
    "    .filter($\"playtime\" >= (800 * TAKE_LAST_X_DATA))\n",
    "\n",
    "val best5TotalOff = avgPlayerSeasonPerformance.sort($\"totalOffRankedPoints\".desc).limit(5)\n",
    "val best5AvgOff = avgPlayerSeasonPerformance.sort($\"avgOffRankedPoints\".desc).limit(5)\n",
    "val best5TotalDef = avgPlayerSeasonPerformance.sort($\"totalDefRankedPoints\".desc).limit(5)\n",
    "val best5AvgDef = avgPlayerSeasonPerformance.sort($\"avgDefRankedPoints\".desc).limit(5)\n"
   ]
  },
  {
   "cell_type": "markdown",
   "metadata": {},
   "source": [
    "# Top 5 total offensive points"
   ]
  },
  {
   "cell_type": "code",
   "execution_count": null,
   "metadata": {},
   "outputs": [],
   "source": [
    "val best5TotalOffPlotable = allPlayersByTimeFrame.select(\"time\", \":player\", \"totalOffRankedPoints\")\n",
    "    .join(yearDF.crossJoin(best5TotalOff.select(\":player\")), Seq(\"time\", \":player\"), \"right_outer\")\n",
    "    .na.fill(0)\n",
    "    .union(avgPlayer.select(\"time\", \":name\", \"totalOffRankedPoints\"))\n",
    "\n",
    "best5TotalOff.show\n",
    "\n",
    "Vegas(\"Ranked player total off points\")\n",
    "  .withDataFrame(best5TotalOffPlotable)\n",
    "  .mark(Line)\n",
    "  .encodeX(\"time\", Ordinal)\n",
    "  .encodeY(\"totalOffRankedPoints\", Quant)\n",
    "  .encodeColor(\n",
    "    field=\":player\",\n",
    "    dataType=Nominal,\n",
    "    legend=Legend(orient=\"left\", title=\"Ranked player total off points\"))\n",
    ".show\n"
   ]
  },
  {
   "cell_type": "markdown",
   "metadata": {},
   "source": [
    "# Top 5 average offensive points"
   ]
  },
  {
   "cell_type": "code",
   "execution_count": null,
   "metadata": {},
   "outputs": [],
   "source": [
    "val best5AvgOffPlotable = allPlayersByTimeFrame.select(\"time\", \":player\", \"avgOffRankedPoints\")\n",
    "    .join(yearDF.crossJoin(best5AvgOff.select(\":player\")), Seq(\"time\", \":player\"), \"right_outer\")\n",
    "    .na.fill(0)\n",
    "    .union(avgPlayer.select(\"time\", \":name\", \"avgOffRankedPoints\"))\n",
    "\n",
    "best5AvgOff.show\n",
    "\n",
    "Vegas(\"Ranked player avg off points\")\n",
    "  .withDataFrame(best5AvgOffPlotable)\n",
    "  .mark(Line)\n",
    "  .encodeX(\"time\", Ordinal, axis=Axis(grid=true))\n",
    "  .encodeY(\"avgOffRankedPoints\", Quant)\n",
    "  .encodeColor(\n",
    "    field=\":player\",\n",
    "    dataType=Nominal,\n",
    "    legend=Legend(orient=\"left\", title=\"Ranked player avg off points\"))\n",
    ".show\n"
   ]
  },
  {
   "cell_type": "markdown",
   "metadata": {},
   "source": [
    "# Top 5 total defensive points"
   ]
  },
  {
   "cell_type": "code",
   "execution_count": null,
   "metadata": {},
   "outputs": [],
   "source": [
    "val lowestTotalDef = avgPlayerSeasonPerformance.agg(min(\"totalDefRankedPoints\")).take(1).head.get(0)\n",
    "\n",
    "\n",
    "val totalDefAvgPlayer = allPlayersByTimeFrame\n",
    "    .groupBy(\"time\")\n",
    "    .agg(avg(\"totalDefRankedPoints\").as(\"totalDefRankedPoints\"))\n",
    "    .select($\"time\", ($\"totalDefRankedPoints\" - lit(lowestTotalDef)).as(\"totalDefRankedPoints\"))\n",
    "    .join(yearDF, Seq(\"time\"), \"right_outer\")\n",
    "    .na.fill(0)\n",
    "    .withColumn(\":name\", lit(\"avg\"))\n",
    "\n",
    "\n",
    "val best5TotalDefPlotable = allPlayersByTimeFrame.select($\"time\", $\":player\", ($\"totalDefRankedPoints\" - lit(lowestTotalDef)).as(\"points\"))\n",
    "    .join(yearDF.crossJoin(best5TotalDef.select(\":player\")), Seq(\"time\", \":player\"), \"right_outer\")\n",
    "    .na.fill(0)\n",
    "    .union(totalDefAvgPlayer.select($\"time\", $\":name\", $\"totalDefRankedPoints\" ))\n",
    "\n",
    "best5TotalDef.show\n",
    "\n",
    "Vegas(\"Ranked player avg off points\")\n",
    "  .withDataFrame(best5TotalDefPlotable)\n",
    "  .mark(Line)\n",
    "  .encodeX(\"time\", Ordinal, axis=Axis(grid=true))\n",
    "  .encodeY(\"points\", Quant)\n",
    "  .encodeColor(\n",
    "    field=\":player\",\n",
    "    dataType=Nominal,\n",
    "    legend=Legend(orient=\"left\", title=\"Ranked player total def points\"))\n",
    ".show"
   ]
  },
  {
   "cell_type": "markdown",
   "metadata": {},
   "source": [
    "# Top 5 average defensive points"
   ]
  },
  {
   "cell_type": "code",
   "execution_count": null,
   "metadata": {},
   "outputs": [],
   "source": [
    "val lowestAvgDef = avgPlayerSeasonPerformance.agg(min(\"avgDefRankedPoints\")).take(1).head.get(0)\n",
    "\n",
    "val avgDefAvgPlayer = allPlayersByTimeFrame\n",
    "    .groupBy(\"time\")\n",
    "    .agg(avg(\"avgDefRankedPoints\").as(\"avgDefRankedPoints\"))\n",
    "    .select($\"time\", ($\"avgDefRankedPoints\" - lit(lowestAvgDef)).as(\"avgDefRankedPoints\"))\n",
    "    .join(yearDF, Seq(\"time\"), \"right_outer\")\n",
    "    .na.fill(0)\n",
    "    .withColumn(\":name\", lit(\"avg\"))\n",
    "\n",
    "val best5AvgDefPlotable = allPlayersByTimeFrame.select($\"time\", $\":player\", ($\"avgDefRankedPoints\" - lit(lowestAvgDef)).as(\"points\"))\n",
    "    .join(yearDF.crossJoin(best5AvgDef.select(\":player\")), Seq(\"time\", \":player\"), \"right_outer\")\n",
    "    .na.fill(0)\n",
    "    .union(avgDefAvgPlayer.select(\"time\", \":name\", \"avgDefRankedPoints\"))\n",
    "\n",
    "best5AvgDef.show\n",
    "\n",
    "Vegas(\"Ranked player avg off points\")\n",
    "  .withDataFrame(best5AvgDefPlotable)\n",
    "  .mark(Line)\n",
    "  .encodeX(\"time\", Ordinal, axis=Axis(grid=true))\n",
    "  .encodeY(\"points\", Quant)\n",
    "  .encodeColor(\n",
    "    field=\":player\",\n",
    "    dataType=Nominal,\n",
    "    legend=Legend(orient=\"left\", title=\"Ranked player avg def points\"))\n",
    ".show"
   ]
  },
  {
   "cell_type": "code",
   "execution_count": null,
   "metadata": {},
   "outputs": [],
   "source": [
    "avgPlayerSeasonPerformance.sort($\"totalOffRankedPoints\".asc).limit(5).show\n",
    "avgPlayerSeasonPerformance.sort($\"avgOffRankedPoints\".asc).limit(5).show\n",
    "avgPlayerSeasonPerformance.sort($\"totalDefRankedPoints\".asc).limit(5).show\n",
    "avgPlayerSeasonPerformance.sort($\"avgDefRankedPoints\".asc).limit(5).show\n"
   ]
  }
 ],
 "metadata": {
  "kernelspec": {
   "display_name": "Scala",
   "language": "scala",
   "name": "scala"
  },
  "language_info": {
   "codemirror_mode": "text/x-scala",
   "file_extension": ".scala",
   "mimetype": "text/x-scala",
   "name": "scala",
   "nbconvert_exporter": "script",
   "version": "2.11.12"
  }
 },
 "nbformat": 4,
 "nbformat_minor": 2
}
