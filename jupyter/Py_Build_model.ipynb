{
 "cells": [
  {
   "cell_type": "code",
   "execution_count": null,
   "metadata": {
    "scrolled": true
   },
   "outputs": [],
   "source": [
    "#conda install -c conda-forge pyarrow xgboost mlflow"
   ]
  },
  {
   "cell_type": "code",
   "execution_count": null,
   "metadata": {},
   "outputs": [],
   "source": [
    "import pandas as pd\n",
    "import numpy as np"
   ]
  },
  {
   "cell_type": "code",
   "execution_count": null,
   "metadata": {},
   "outputs": [],
   "source": [
    "CACHED_DATA_DIR = \"/goalimpacct/spark_data_cache/result_parquet\"\n",
    "resultDf =  pd.read_parquet(CACHED_DATA_DIR)\n"
   ]
  },
  {
   "cell_type": "code",
   "execution_count": null,
   "metadata": {},
   "outputs": [],
   "source": [
    "CACHED_PLAYER_TIME_DIR = \"/goalimpacct/spark_data_cache/player_time_parquet\"\n",
    "ptDf =  pd.read_parquet(CACHED_PLAYER_TIME_DIR)\n",
    "ptDf.drop(columns=[':team', ':tournament', ':saison', ':date', ':in-time',':out-time'], inplace=True)"
   ]
  },
  {
   "cell_type": "code",
   "execution_count": null,
   "metadata": {
    "scrolled": true
   },
   "outputs": [],
   "source": [
    "def getXMatchesAttributes(xList):\n",
    "    array = []\n",
    "    \n",
    "    for i in xList:\n",
    "        array.append(':playtimeLast' + str(i) + 'Matches')\n",
    "        array.append(':totalOffPointsLast' + str(i) + 'Matches')\n",
    "        array.append(':totalDefPointsLast' + str(i) + 'Matches')\n",
    "        array.append(':avgOffPointsLast' + str(i) + 'Matches')\n",
    "        array.append(':avgDefPointsLast' + str(i) + 'Matches')\n",
    "        array.append(':totalRankedOffPointsLast' + str(i) + 'Matches')\n",
    "        array.append(':totalRankedDefPointsLast' + str(i) + 'Matches')\n",
    "        array.append(':avgRankedOffPointsLast' + str(i) + 'Matches')\n",
    "        array.append(':avgRankedDefPointsLast' + str(i) + 'Matches')\n",
    "    \n",
    "    return array\n",
    "\n",
    "        \n",
    "#xMatchAttribures = getXMatchesAttributes([1, 2, 3, 4, 5, 6, 8 , 13, 21])\n",
    "xMatchAttribures = getXMatchesAttributes([1, 2, 3, 4, 5, 6, 8 , 13, 21])\n"
   ]
  },
  {
   "cell_type": "code",
   "execution_count": null,
   "metadata": {},
   "outputs": [],
   "source": [
    "MATCH_CSV = \"/goalimpacct/data_compressed/match/compressed.csv\"\n",
    "matchDf = pd.read_csv(MATCH_CSV)"
   ]
  },
  {
   "cell_type": "code",
   "execution_count": null,
   "metadata": {},
   "outputs": [],
   "source": [
    "GOAL_CSV = \"/goalimpacct/data_compressed/goal/compressed.csv\"\n",
    "goalDf = pd.read_csv(GOAL_CSV)"
   ]
  },
  {
   "cell_type": "code",
   "execution_count": null,
   "metadata": {
    "scrolled": true
   },
   "outputs": [],
   "source": [
    "SUBSTITUTION_CSV = \"/goalimpacct/data_compressed/substitution/compressed.csv\"\n",
    "substitutionDf = pd.read_csv(SUBSTITUTION_CSV)"
   ]
  },
  {
   "cell_type": "code",
   "execution_count": null,
   "metadata": {
    "scrolled": true
   },
   "outputs": [],
   "source": [
    "PLAYER_CSV = \"/goalimpacct/data_compressed/player/compressed.csv\"\n",
    "playerDf = pd.read_csv(PLAYER_CSV)\n"
   ]
  },
  {
   "cell_type": "code",
   "execution_count": null,
   "metadata": {
    "scrolled": true
   },
   "outputs": [],
   "source": [
    "matchDf.rename(columns={ \":id\" : \":match\"}, inplace=True)\n"
   ]
  },
  {
   "cell_type": "code",
   "execution_count": null,
   "metadata": {
    "scrolled": true
   },
   "outputs": [],
   "source": [
    "matchesGoals = pd.merge(matchDf, goalDf, how='inner', on = ':match')\n",
    "#matchesGoals"
   ]
  },
  {
   "cell_type": "code",
   "execution_count": null,
   "metadata": {},
   "outputs": [],
   "source": [
    "matchesHomeGoals = matchesGoals[(matchesGoals[\":team\"] == matchesGoals[\":home\"])]\n",
    "matchesHomeGoals.loc[:, ':home?'] = True\n",
    "matchesHomeGoals.rename(columns={ \":guest\" : \":opponent\"}, inplace=True)\n",
    "matchesHomeGoals.drop(columns=[':home'], inplace=True)\n"
   ]
  },
  {
   "cell_type": "code",
   "execution_count": null,
   "metadata": {},
   "outputs": [],
   "source": [
    "matchesGuestGoals = matchesGoals[(matchesGoals[\":team\"] != matchesGoals[\":home\"])]\n",
    "matchesGuestGoals.loc[:, ':home?'] = False\n",
    "matchesGuestGoals.rename(columns={ \":home\" : \":opponent\"}, inplace=True)\n",
    "matchesGuestGoals.drop(columns=[':guest'], inplace=True)\n"
   ]
  },
  {
   "cell_type": "code",
   "execution_count": null,
   "metadata": {
    "scrolled": true
   },
   "outputs": [],
   "source": [
    "matchesLocGoals = pd.concat([matchesHomeGoals, matchesGuestGoals])\n"
   ]
  },
  {
   "cell_type": "code",
   "execution_count": null,
   "metadata": {
    "scrolled": true
   },
   "outputs": [],
   "source": [
    "goalCount = matchesLocGoals.groupby([':match', ':date', ':saison', ':team', ':opponent', ':home?', ':match-length']).size().reset_index(name='goals')\n"
   ]
  },
  {
   "cell_type": "code",
   "execution_count": null,
   "metadata": {
    "scrolled": true
   },
   "outputs": [],
   "source": [
    "cleanMatch = matchDf[[':match', ':date', ':saison', ':guest', ':home', ':match-length']]\n",
    "\n",
    "cleanHomeMatch = cleanMatch.rename(columns={ \":home\" : \":team\", \":guest\": \":opponent\"})\n",
    "cleanHomeMatch[':home?'] = True\n",
    "cleanHomeMatch['goals'] = 0\n",
    "\n",
    "cleanGuestMatch = cleanMatch.rename(columns={ \":guest\" : \":team\", \":home\": \":opponent\"})\n",
    "cleanGuestMatch[':home?'] = False\n",
    "cleanGuestMatch['goals'] = 0\n",
    "\n",
    "zeroGoalCount = pd.concat([cleanHomeMatch[[':match', ':date', ':saison', ':team', ':opponent', ':home?', 'goals', ':match-length']], \n",
    "                           cleanGuestMatch[[':match', ':date', ':saison', ':team', ':opponent', ':home?', 'goals', ':match-length']]])\n"
   ]
  },
  {
   "cell_type": "code",
   "execution_count": null,
   "metadata": {
    "scrolled": true
   },
   "outputs": [],
   "source": [
    "allGoalCount = pd.concat([goalCount, zeroGoalCount])\n",
    "goalCountDf = allGoalCount.groupby([':match', ':date', ':saison', ':team', ':opponent', ':home?', ':match-length']\n",
    "                                   , sort=False)['goals'].max().reset_index(name='goals')\n"
   ]
  },
  {
   "cell_type": "code",
   "execution_count": null,
   "metadata": {
    "scrolled": true
   },
   "outputs": [],
   "source": [
    "playerDf = playerDf.astype(str)\n"
   ]
  },
  {
   "cell_type": "code",
   "execution_count": null,
   "metadata": {
    "scrolled": false
   },
   "outputs": [],
   "source": [
    "dateOfMatch = matchDf[[':match', ':date']]\n",
    "\n",
    "dateOfMatch.loc[:, ':match'] = dateOfMatch[':match'].astype(str)\n",
    "dateOfMatch.loc[:, ':date'] = pd.to_datetime(dateOfMatch[':date'],errors='coerce')\n"
   ]
  },
  {
   "cell_type": "code",
   "execution_count": null,
   "metadata": {},
   "outputs": [],
   "source": [
    "dateOfMatchFiltered = dateOfMatch[dateOfMatch[':date'].dt.year >= 2014]\n",
    "dateOfMatchFiltered.shape"
   ]
  },
  {
   "cell_type": "code",
   "execution_count": null,
   "metadata": {},
   "outputs": [],
   "source": [
    "years = pd.DataFrame(dateOfMatchFiltered[':date'].dt.year)\n",
    "pd.DataFrame(years[':date'].value_counts()).plot.pie(subplots=True)"
   ]
  },
  {
   "cell_type": "code",
   "execution_count": null,
   "metadata": {},
   "outputs": [],
   "source": [
    "playerAndDateDF = pd.merge( dateOfMatchFiltered, playerDf, how='left', left_on=[':match'], right_on = [':match'])"
   ]
  },
  {
   "cell_type": "code",
   "execution_count": null,
   "metadata": {},
   "outputs": [],
   "source": [
    "rawMerge = pd.merge(playerAndDateDF, resultDf,  how='left', \n",
    "                    left_on=[':team', ':player'], right_on = [':team',':player'])"
   ]
  },
  {
   "cell_type": "code",
   "execution_count": null,
   "metadata": {},
   "outputs": [],
   "source": [
    "rawMerge.shape"
   ]
  },
  {
   "cell_type": "code",
   "execution_count": null,
   "metadata": {},
   "outputs": [],
   "source": [
    "filtered = rawMerge[rawMerge[':date'] > rawMerge[':target-match-timestamp']]\n",
    "filtered = rawMerge[rawMerge[':match_x'] != rawMerge[':match_y']]"
   ]
  },
  {
   "cell_type": "code",
   "execution_count": null,
   "metadata": {},
   "outputs": [],
   "source": [
    "filtered.shape"
   ]
  },
  {
   "cell_type": "code",
   "execution_count": null,
   "metadata": {
    "scrolled": true
   },
   "outputs": [],
   "source": [
    "maxDate = filtered.groupby([':match_x', ':date', ':team', \n",
    "                            ':player'])[':target-match-timestamp'].max().reset_index(name=':target-match-timestamp')"
   ]
  },
  {
   "cell_type": "code",
   "execution_count": null,
   "metadata": {
    "scrolled": true
   },
   "outputs": [],
   "source": [
    "playersToMatch = pd.merge(maxDate, resultDf,  how='left', \n",
    "                          left_on=[':team', ':player', ':target-match-timestamp'], \n",
    "                          right_on = [':team', ':player', ':target-match-timestamp'])\n",
    "\n",
    "playersToMatch.drop(columns=[':match', ':tournament', ':target-match-timestamp', ':saison', ':date'], inplace=True)\n",
    "playersToMatch.rename(columns={ \":match_x\" : \":match\"}, inplace=True)\n",
    "\n"
   ]
  },
  {
   "cell_type": "code",
   "execution_count": null,
   "metadata": {
    "scrolled": true
   },
   "outputs": [],
   "source": [
    "playersWithPtToMatch = pd.merge(playersToMatch, ptDf,  how='left', left_on=[':match', ':player'], right_on = [':match', ':player'])\n",
    "\n",
    "for attr in xMatchAttribures:   \n",
    "    playersWithPtToMatch.loc[:, attr] = playersWithPtToMatch[attr] * playersWithPtToMatch[':playtime']\n",
    "        \n",
    "    "
   ]
  },
  {
   "cell_type": "code",
   "execution_count": null,
   "metadata": {
    "scrolled": true
   },
   "outputs": [],
   "source": [
    "teamToMatch = playersWithPtToMatch.groupby([':match', ':team']).sum().reset_index()"
   ]
  },
  {
   "cell_type": "code",
   "execution_count": null,
   "metadata": {
    "scrolled": true
   },
   "outputs": [],
   "source": [
    "# create oppenent team df\n",
    "opponentTeamToMatch = teamToMatch.add_prefix(\"opponent_\")\n"
   ]
  },
  {
   "cell_type": "code",
   "execution_count": null,
   "metadata": {
    "scrolled": true
   },
   "outputs": [],
   "source": [
    "# join team data\n",
    "\n",
    "goalCountDf.loc[:, ':match'] = goalCountDf[':match'].astype(int)\n",
    "goalCountDf.loc[:, ':team'] = pd.to_numeric(goalCountDf[':team'])\n",
    "teamToMatch.loc[:, ':match'] = teamToMatch[':match'].astype(int)\n",
    "teamToMatch.loc[:, ':team'] = pd.to_numeric(teamToMatch[':team'])\n",
    "\n",
    "goalTeamDf = pd.merge(goalCountDf, teamToMatch, how='inner', on=[':match', ':team'])\n"
   ]
  },
  {
   "cell_type": "code",
   "execution_count": null,
   "metadata": {},
   "outputs": [],
   "source": [
    "# join opponent data\n",
    "\n",
    "opponentTeamToMatch.loc[:, 'opponent_:match'] = opponentTeamToMatch['opponent_:match'].astype(int)\n",
    "opponentTeamToMatch.loc[:, 'opponent_:team'] = pd.to_numeric(opponentTeamToMatch['opponent_:team'])\n",
    "\n",
    "goalTeamDf = pd.merge(goalTeamDf, opponentTeamToMatch, how='inner', left_on=[':match', ':opponent'], right_on=['opponent_:match', 'opponent_:team'])\n"
   ]
  },
  {
   "cell_type": "code",
   "execution_count": null,
   "metadata": {},
   "outputs": [],
   "source": [
    "# add date stuff\n",
    "goalTeamDf.loc[:, ':date'] = pd.to_datetime(goalTeamDf[':date'])\n",
    "\n",
    "goalTeamDf.loc[:, 'Year'] = goalTeamDf[':date'].dt.year \n",
    "goalTeamDf.loc[:, 'Month'] = goalTeamDf[':date'].dt.month\n",
    "goalTeamDf.loc[:, 'Day'] = goalTeamDf[':date'].dt.day"
   ]
  },
  {
   "cell_type": "code",
   "execution_count": null,
   "metadata": {},
   "outputs": [],
   "source": [
    "goalTeamDf"
   ]
  },
  {
   "cell_type": "code",
   "execution_count": null,
   "metadata": {
    "scrolled": true
   },
   "outputs": [],
   "source": [
    "# remove useless columns\n",
    "\n",
    "trainDF = goalTeamDf.drop(columns=[':date', ':team', ':opponent', ':match'])\n",
    "trainDF = trainDF.dropna()\n",
    "\n",
    "for attr in xMatchAttribures:   \n",
    "    trainDF.loc[:, attr] = trainDF[attr] / trainDF[':match-length']\n",
    "    trainDF.loc[:, 'opponent_' + attr] = trainDF['opponent_' + attr] / trainDF[':match-length']"
   ]
  },
  {
   "cell_type": "code",
   "execution_count": null,
   "metadata": {
    "scrolled": true
   },
   "outputs": [],
   "source": [
    "trainDF"
   ]
  },
  {
   "cell_type": "code",
   "execution_count": null,
   "metadata": {},
   "outputs": [],
   "source": [
    "from sklearn.model_selection import train_test_split\n",
    "from sklearn.preprocessing import StandardScaler\n",
    "\n",
    "from sklearn import svm\n",
    "from sklearn.impute import SimpleImputer\n",
    "from sklearn.metrics import mean_absolute_error, mean_squared_error, r2_score\n",
    "\n",
    "from xgboost import XGBRegressor\n",
    "import mlflow\n",
    "import mlflow.sklearn\n",
    "\n",
    "import time\n",
    "\n",
    "import os\n",
    "# otherwise xgboost will kill the kernel\n",
    "os.environ['KMP_DUPLICATE_LIB_OK']='True'\n",
    "\n",
    "mlflow.set_tracking_uri('http://127.0.0.1:5000')"
   ]
  },
  {
   "cell_type": "code",
   "execution_count": null,
   "metadata": {},
   "outputs": [],
   "source": [
    "loopDF = trainDF.head(1000)"
   ]
  },
  {
   "cell_type": "code",
   "execution_count": null,
   "metadata": {},
   "outputs": [],
   "source": [
    "X = loopDF.drop(columns=['goals'])\n",
    "y = loopDF.goals.astype(float)"
   ]
  },
  {
   "cell_type": "code",
   "execution_count": null,
   "metadata": {},
   "outputs": [],
   "source": [
    "X_train, X_test, y_train, y_test = train_test_split(X, y, test_size=0.1, random_state=123)\n",
    "\n",
    "imputer = SimpleImputer()\n",
    "X_train = imputer.fit_transform(X_train)\n",
    "X_test = imputer.transform(X_test)\n",
    "\n",
    "print('There are {} samples in the training set and {} samples in the test set'.format(\n",
    "X_train.shape[0], X_test.shape[0]))"
   ]
  },
  {
   "cell_type": "code",
   "execution_count": null,
   "metadata": {
    "scrolled": true
   },
   "outputs": [],
   "source": [
    "# XGBOOST MODEL\n",
    "n_estimators = 500\n",
    "learning_rate = 0.1\n",
    "early_stopping_rounds = 40\n"
   ]
  },
  {
   "cell_type": "code",
   "execution_count": null,
   "metadata": {},
   "outputs": [],
   "source": [
    "def calc_model(expID, n_estimators, learning_rate, early_stopping_rounds):\n",
    "\n",
    "    mlflow.set_experiment(str(expID))\n",
    "    \n",
    "    with mlflow.start_run():\n",
    "        \n",
    "\n",
    "        model = XGBRegressor(n_estimators=n_estimators, learning_rate=learning_rate)\n",
    "        model.fit(X_train, y_train, early_stopping_rounds=early_stopping_rounds, eval_set=[(X_test, y_test)]\n",
    "                  , verbose=False)\n",
    "\n",
    "        predictions = model.predict(X_test)\n",
    "        predictions_rounded = predictions.round(0)\n",
    "\n",
    "        mae = mean_absolute_error(predictions_rounded, y_test)\n",
    "        mse = mean_squared_error(predictions_rounded, y_test)\n",
    "        r2 = r2_score(predictions_rounded, y_test)\n",
    "        print(\"xgboost:mean_absolute_error={}\".format(mae))\n",
    "        print(\"xgboost:mean_squared_error={}\".format(mse))\n",
    "        print(\"xgboost:r2_score={}\".format(r2))\n",
    "\n",
    "\n",
    "        mlflow.log_param(\"training_size\", len(X_train))\n",
    "        mlflow.log_param(\"n_estimators\", n_estimators)\n",
    "        mlflow.log_param(\"learning_rate\", learning_rate)\n",
    "        mlflow.log_param(\"early_stopping_rounds\", early_stopping_rounds)\n",
    "        mlflow.log_metric(\"mse\", mse)\n",
    "        mlflow.log_metric(\"r2\", r2)\n",
    "        mlflow.log_metric(\"mae\", mae)\n",
    "\n",
    "        mlflow.sklearn.log_model(model, \"model\")"
   ]
  },
  {
   "cell_type": "code",
   "execution_count": null,
   "metadata": {
    "scrolled": true
   },
   "outputs": [],
   "source": [
    "start = time.time()\n",
    "\n",
    "for n_estimators in [100, 500, 1000, 5000]:\n",
    "    for learning_rate in np.arange(0.1, 1.0, 0.1):\n",
    "        calc_model(start, n_estimators, learning_rate, early_stopping_rounds)\n",
    "    \n",
    "end = time.time()    \n",
    "print(\"finished in \"+ str(end - start))\n",
    "\n"
   ]
  },
  {
   "cell_type": "code",
   "execution_count": null,
   "metadata": {},
   "outputs": [],
   "source": [
    "\n",
    "X = trainDF.drop(columns=['goals'])\n",
    "y = trainDF.goals.astype(float)\n",
    "\n",
    "X_train, X_test, y_train, y_test = train_test_split(X, y, test_size=0.1, random_state=123)\n",
    "\n",
    "imputer = SimpleImputer()\n",
    "X_train = imputer.fit_transform(X_train)\n",
    "X_test = imputer.transform(X_test)\n",
    "\n",
    "model = XGBRegressor(n_estimators=n_estimators, learning_rate=learning_rate)\n",
    "model.fit(X_train, y_train, early_stopping_rounds=early_stopping_rounds, eval_set=[(X_test, y_test)]\n",
    "                  , verbose=False)"
   ]
  },
  {
   "cell_type": "code",
   "execution_count": null,
   "metadata": {},
   "outputs": [],
   "source": [
    "predictions = model.predict(X_test)"
   ]
  },
  {
   "cell_type": "code",
   "execution_count": null,
   "metadata": {},
   "outputs": [],
   "source": [
    "predictions_rounded = predictions.round(0)"
   ]
  },
  {
   "cell_type": "code",
   "execution_count": null,
   "metadata": {},
   "outputs": [],
   "source": [
    "mae = mean_absolute_error(predictions, y_test)\n",
    "mae"
   ]
  },
  {
   "cell_type": "code",
   "execution_count": null,
   "metadata": {},
   "outputs": [],
   "source": [
    "mse = mean_squared_error(predictions, y_test)\n",
    "mse"
   ]
  },
  {
   "cell_type": "code",
   "execution_count": null,
   "metadata": {
    "scrolled": true
   },
   "outputs": [],
   "source": [
    "diffDF = pd.DataFrame({'pred':predictions, 'actual': y_test}).sort_index()"
   ]
  },
  {
   "cell_type": "code",
   "execution_count": null,
   "metadata": {
    "scrolled": true
   },
   "outputs": [],
   "source": [
    "diffDF"
   ]
  },
  {
   "cell_type": "code",
   "execution_count": null,
   "metadata": {},
   "outputs": [],
   "source": [
    "diffDF.plot()"
   ]
  },
  {
   "cell_type": "code",
   "execution_count": null,
   "metadata": {},
   "outputs": [],
   "source": []
  }
 ],
 "metadata": {
  "kernelspec": {
   "display_name": "Python 3",
   "language": "python",
   "name": "python3"
  },
  "language_info": {
   "codemirror_mode": {
    "name": "ipython",
    "version": 3
   },
   "file_extension": ".py",
   "mimetype": "text/x-python",
   "name": "python",
   "nbconvert_exporter": "python",
   "pygments_lexer": "ipython3",
   "version": "3.7.4"
  }
 },
 "nbformat": 4,
 "nbformat_minor": 2
}
