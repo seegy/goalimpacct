{
 "cells": [
  {
   "cell_type": "code",
   "execution_count": null,
   "metadata": {},
   "outputs": [],
   "source": [
    "import $ivy.`org.vegas-viz::vegas:0.3.11`\n",
    "import $ivy.`org.apache.spark::spark-core:2.4.0`\n",
    "import $ivy.`org.apache.spark::spark-sql:2.4.0`\n",
    "import $ivy.`org.vegas-viz::vegas-spark:0.3.11`\n"
   ]
  },
  {
   "cell_type": "code",
   "execution_count": null,
   "metadata": {
    "scrolled": true
   },
   "outputs": [],
   "source": [
    "import org.apache.spark.{SparkConf, SparkContext}\n",
    "import org.apache.spark.sql.{DataFrame, SaveMode, SparkSession}\n",
    "import vegas.sparkExt._\n",
    "import vegas._\n",
    "import org.apache.spark.sql.functions._"
   ]
  },
  {
   "cell_type": "markdown",
   "metadata": {},
   "source": [
    "# Parameters"
   ]
  },
  {
   "cell_type": "code",
   "execution_count": null,
   "metadata": {},
   "outputs": [],
   "source": [
    "val CACHED_DATA_DIR = \"/goalimpacct/spark_data_cache/result_parquet\"\n",
    "\n",
    "\n",
    "val PLAYER_ID_LIST = List(\n",
    "    (\"35207\", \"Reus\"),\n",
    "    (\"28003\", \"Messi\"),\n",
    "    (\"68290\", \"Neymar\"),\n",
    "    (\"126716\", \"Alcacer\"),\n",
    "    (\"8198\", \"C.Ronaldo\"),\n",
    "    (\"38253\", \"Lewandowski\"),\n",
    "    (\"125781\", \"Griezmann\"),\n",
    "    (\"342229\", \"Mbappe\")\n",
    ")\n",
    "\n",
    "//val PLAYER_ID_LIST = List(\n",
    "// (\"68290\", \"Neymar\"))\n",
    "\n",
    "val TARGET_SEASONS = List(\n",
    "    (\"2018\")\n",
    ")\n",
    "\n",
    "val TAKE_LAST_X_DATA = 1"
   ]
  },
  {
   "cell_type": "markdown",
   "metadata": {},
   "source": [
    "# Helper Vars"
   ]
  },
  {
   "cell_type": "code",
   "execution_count": null,
   "metadata": {},
   "outputs": [],
   "source": [
    "val playtimeColumn = \":playtimeLast\" + TAKE_LAST_X_DATA + \"Matches\"\n",
    "val totalOffPointsColumn = \":totalOffPointsLast\" + TAKE_LAST_X_DATA + \"Matches\"\n",
    "val totalDefPointsColumn = \":totalDefPointsLast\" + TAKE_LAST_X_DATA + \"Matches\"\n",
    "val avgOffPointsColumn = \":avgOffPointsLast\" + TAKE_LAST_X_DATA + \"Matches\"\n",
    "val avgDefPointsColumn = \":avgDefPointsLast\" + TAKE_LAST_X_DATA + \"Matches\"\n",
    "val totalRankedOffPointsColumn = \":totalRankedOffPointsLast\" + TAKE_LAST_X_DATA + \"Matches\"\n",
    "val totalRankedDefPointsColumn = \":totalRankedDefPointsLast\" + TAKE_LAST_X_DATA + \"Matches\"\n",
    "val avgRankedOffPointsColumn = \":avgRankedOffPointsLast\" + TAKE_LAST_X_DATA + \"Matches\"\n",
    "val avgRankedDefPointsColumn = \":avgRankedDefPointsLast\" + TAKE_LAST_X_DATA + \"Matches\""
   ]
  },
  {
   "cell_type": "markdown",
   "metadata": {},
   "source": [
    "# Create Spark Context"
   ]
  },
  {
   "cell_type": "code",
   "execution_count": null,
   "metadata": {},
   "outputs": [],
   "source": [
    "val conf = new SparkConf()\n",
    "conf.setMaster(s\"local[*]\")\n",
    "conf.setAppName(\"ShowHistory\")\n",
    "val sc = new SparkContext(conf)\n",
    "sc.setLogLevel(\"ERROR\")\n",
    "\n",
    "val spark = SparkSession.builder.appName(\"ShowHistory\").getOrCreate()\n"
   ]
  },
  {
   "cell_type": "markdown",
   "metadata": {},
   "source": [
    "# Helper Functions"
   ]
  },
  {
   "cell_type": "code",
   "execution_count": null,
   "metadata": {},
   "outputs": [],
   "source": [
    "def getYearDF(lastMatchDF : DataFrame, spark: SparkSession) : DataFrame = {\n",
    "\n",
    "    import spark.implicits._\n",
    "\n",
    "    val years  = lastMatchDF.withColumn(\"year\", year($\":target-match-timestamp\")).select(\"year\").distinct()\n",
    "\n",
    "    val earliestYear : Int  = years.sort($\"year\".asc).head().get(0).toString.toInt\n",
    "    val latestYear : Int = years.sort($\"year\".desc).head().get(0).toString.toInt\n",
    "\n",
    "    val monthList = (earliestYear to latestYear).toList.flatMap(x => (1 to 12).toList.map(i => x + \"-\" + i + \"-01\"))\n",
    "\n",
    "\n",
    "    val yearDF = monthList.toDF(\"timeString\").withColumn(\"time\", to_date($\"timeString\", \"yyyy-MM-dd\")).select(\"time\")\n",
    "\n",
    "    yearDF\n",
    "}"
   ]
  },
  {
   "cell_type": "markdown",
   "metadata": {},
   "source": [
    "#  Create/Load spark dataframes"
   ]
  },
  {
   "cell_type": "code",
   "execution_count": null,
   "metadata": {},
   "outputs": [],
   "source": [
    "import spark.implicits._    \n",
    "val rawDataDF = spark.sqlContext.read.parquet(CACHED_DATA_DIR)\n",
    "val playerNameMapper = PLAYER_ID_LIST.toDF(\":player\", \":name\")\n",
    "val saisonMapper =  TARGET_SEASONS.toDF(\":saison\")"
   ]
  },
  {
   "cell_type": "code",
   "execution_count": null,
   "metadata": {},
   "outputs": [],
   "source": [
    "val lastMatchDF =  rawDataDF.select(\":player\",\":saison\",\":match\",\":team\",\":tournament\",\n",
    "    \":target-match-timestamp\",\n",
    "    playtimeColumn,\n",
    "    totalOffPointsColumn,\n",
    "    totalDefPointsColumn,\n",
    "    avgOffPointsColumn,\n",
    "    avgDefPointsColumn,\n",
    "    totalRankedOffPointsColumn,\n",
    "    totalRankedDefPointsColumn,\n",
    "    avgRankedOffPointsColumn,\n",
    "    avgRankedDefPointsColumn)\n",
    "    .join(playerNameMapper, \":player\")\n",
    "    .join(saisonMapper, \":saison\")\n",
    "\n",
    "lastMatchDF.count\n"
   ]
  },
  {
   "cell_type": "code",
   "execution_count": null,
   "metadata": {},
   "outputs": [],
   "source": [
    "rawDataDF.filter($\":player\" === \"125781\" && $\":saison\" === \"2018\").count"
   ]
  },
  {
   "cell_type": "code",
   "execution_count": null,
   "metadata": {},
   "outputs": [],
   "source": [
    "val yearDF = getYearDF(lastMatchDF, spark)\n",
    "\n",
    "yearDF.show"
   ]
  },
  {
   "cell_type": "markdown",
   "metadata": {},
   "source": [
    "# Building avg values of all players"
   ]
  },
  {
   "cell_type": "code",
   "execution_count": null,
   "metadata": {},
   "outputs": [],
   "source": [
    "val avgRelevanteTournaments = rawDataDF\n",
    "    .select(\":player\",\":tournament\", \":saison\")\n",
    "    .join(saisonMapper, \":saison\")\n",
    "    .join(playerNameMapper.select(\":player\"), \":player\")\n",
    "    .select(\":tournament\")\n",
    "    .distinct()\n",
    "\n",
    "avgRelevanteTournaments.show\n",
    "\n",
    "val allPlayersByTimeFrame = rawDataDF.select(\":player\",\":saison\",\":match\",\":team\",\":tournament\",\n",
    "    \":target-match-timestamp\",\n",
    "    playtimeColumn,\n",
    "    totalOffPointsColumn,\n",
    "    totalDefPointsColumn,\n",
    "    avgOffPointsColumn,\n",
    "    avgDefPointsColumn,\n",
    "    totalRankedOffPointsColumn,\n",
    "    totalRankedDefPointsColumn,\n",
    "    avgRankedOffPointsColumn,\n",
    "    avgRankedDefPointsColumn)\n",
    "    .join(saisonMapper, \":saison\")\n",
    "    .join(avgRelevanteTournaments, \":tournament\")\n",
    "    .withColumn(\"time\",  to_date( concat_ws(\"-\", year($\":target-match-timestamp\"), month($\":target-match-timestamp\"), lit(\"01\") ), \"yyyy-MM\"))\n",
    "    .groupBy(\":player\", \"time\")\n",
    "    .agg(sum(totalOffPointsColumn).as(\"totalOffNeutralPoints\"),\n",
    "        avg(avgOffPointsColumn).as(\"avgOffNeutralPoints\"),\n",
    "        sum(totalRankedOffPointsColumn).as(\"totalOffRankedPoints\"),\n",
    "        avg(avgRankedOffPointsColumn).as(\"avgOffRankedPoints\"),\n",
    "        sum(totalDefPointsColumn).as(\"totalDefNeutralPoints\"),\n",
    "        avg(avgDefPointsColumn).as(\"avgDefNeutralPoints\"),\n",
    "        sum(totalRankedDefPointsColumn).as(\"totalDefRankedPoints\"),\n",
    "        avg(avgRankedDefPointsColumn).as(\"avgDefRankedPoints\"),\n",
    "        sum(playtimeColumn).as(\"playtime\"))\n",
    "\n",
    "\n",
    "val avgPlayer = allPlayersByTimeFrame\n",
    "    .groupBy(\"time\")\n",
    "    .agg(avg(\"totalOffNeutralPoints\").as(\"totalOffNeutralPoints\"),\n",
    "        avg(\"avgOffNeutralPoints\").as(\"avgOffNeutralPoints\"),\n",
    "        avg(\"totalOffRankedPoints\").as(\"totalOffRankedPoints\"),\n",
    "        avg(\"avgOffRankedPoints\").as(\"avgOffRankedPoints\"),\n",
    "        avg(\"totalDefNeutralPoints\").as(\"totalDefNeutralPoints\"),\n",
    "        avg(\"avgDefNeutralPoints\").as(\"avgDefNeutralPoints\"),\n",
    "        avg(\"totalDefRankedPoints\").as(\"totalDefRankedPoints\"),\n",
    "        avg(\"avgDefRankedPoints\").as(\"avgDefRankedPoints\"))\n",
    "    .join(yearDF, Seq(\"time\"), \"right_outer\")\n",
    "    .na.fill(0)\n",
    "    .withColumn(\":name\", lit(\"avg\"))\n",
    "\n",
    "avgPlayer.count\n",
    "\n"
   ]
  },
  {
   "cell_type": "markdown",
   "metadata": {},
   "source": [
    "# Aggregate players off values to time frames"
   ]
  },
  {
   "cell_type": "code",
   "execution_count": null,
   "metadata": {},
   "outputs": [],
   "source": [
    "val aggregatedOffPlayerPointsDF = lastMatchDF.withColumn(\"time\",  to_date( concat_ws(\"-\", year($\":target-match-timestamp\"), month($\":target-match-timestamp\"), lit(\"01\") ), \"yyyy-MM\"))\n",
    "      .select(\":name\", \"time\", totalOffPointsColumn, avgOffPointsColumn, totalRankedOffPointsColumn, avgRankedOffPointsColumn)\n",
    "      .groupBy(\":name\", \"time\")\n",
    "      .agg(sum(totalOffPointsColumn).as(\"totalOffNeutralPoints\"),\n",
    "        avg(avgOffPointsColumn).as(\"avgOffNeutralPoints\"),\n",
    "        sum(totalRankedOffPointsColumn).as(\"totalOffRankedPoints\"),\n",
    "        avg(avgRankedOffPointsColumn).as(\"avgOffRankedPoints\"))\n",
    "      .join(yearDF.crossJoin(playerNameMapper.select(\":name\")), Seq(\"time\", \":name\"), \"right_outer\")\n",
    "        .na.fill(0)\n",
    "        .union(avgPlayer.select(\"time\", \":name\", \"totalOffNeutralPoints\", \"avgOffNeutralPoints\", \"totalOffRankedPoints\", \"avgOffRankedPoints\"))\n",
    "\n",
    "\n",
    "aggregatedOffPlayerPointsDF.count"
   ]
  },
  {
   "cell_type": "markdown",
   "metadata": {},
   "source": [
    "# Total Off Points"
   ]
  },
  {
   "cell_type": "code",
   "execution_count": null,
   "metadata": {},
   "outputs": [],
   "source": [
    "val totalRankedPlotableDF = aggregatedOffPlayerPointsDF\n",
    "    .select(\":name\", \"time\", \"totalOffRankedPoints\")\n",
    "      .withColumnRenamed(\"totalOffRankedPoints\", \"points\")\n",
    "\n",
    "Vegas(\"total ranked player points\")\n",
    "  .withDataFrame(totalRankedPlotableDF)\n",
    "  .mark(Line)\n",
    "  .encodeX(\"time\", Ordinal)\n",
    "  .encodeY(\"points\", Quant)\n",
    "  .encodeColor(\n",
    "    field=\":name\",\n",
    "    dataType=Nominal,\n",
    "    legend=Legend(orient=\"left\", title=\"total ranked player points\"))\n",
    ".show"
   ]
  },
  {
   "cell_type": "markdown",
   "metadata": {},
   "source": [
    "# AVG Off Points"
   ]
  },
  {
   "cell_type": "code",
   "execution_count": null,
   "metadata": {},
   "outputs": [],
   "source": [
    "val avgRankedPlotableDF = aggregatedOffPlayerPointsDF\n",
    "    .select(\":name\", \"time\",  \"avgOffRankedPoints\")\n",
    "      .withColumnRenamed(\"avgOffRankedPoints\", \"points\")\n",
    "\n",
    "Vegas(\"Ranked player points per time\")\n",
    "  .withDataFrame(avgRankedPlotableDF)\n",
    "  .mark(Line)\n",
    "  .encodeX(\"time\", Ordinal)\n",
    "  .encodeY(\"points\", Quant)\n",
    "  .encodeColor(\n",
    "    field=\":name\",\n",
    "    dataType=Nominal,\n",
    "    legend=Legend(orient=\"left\", title=\"Ranked player points per time\"))\n",
    ".show"
   ]
  },
  {
   "cell_type": "code",
   "execution_count": null,
   "metadata": {},
   "outputs": [],
   "source": [
    "val playerHistory = rawDataDF.select(\":player\",\":saison\",\":match\",\":team\",\":tournament\",\n",
    "    \":target-match-timestamp\",\n",
    "    playtimeColumn,\n",
    "    totalOffPointsColumn,\n",
    "    totalDefPointsColumn,\n",
    "    avgOffPointsColumn,\n",
    "    avgDefPointsColumn,\n",
    "    totalRankedOffPointsColumn,\n",
    "    totalRankedDefPointsColumn,\n",
    "    avgRankedOffPointsColumn,\n",
    "    avgRankedDefPointsColumn)\n",
    "    .join(playerNameMapper, \":player\")\n",
    "    .withColumn(\"time\",  to_date( concat_ws(\"-\", year($\":target-match-timestamp\"), month($\":target-match-timestamp\") , lit(\"01\") ), \"yyyy-MM\"))\n",
    "\n",
    "val a = playerHistory\n",
    "    .select($\":player\", $\":target-match-timestamp\")\n",
    "    .join(playerHistory\n",
    "          .withColumnRenamed(\":player\", \":player2\")\n",
    "          .withColumnRenamed(\":target-match-timestamp\", \":target-match-timestamp2\"), \n",
    "            $\":player\" === $\":player2\" && $\":target-match-timestamp\" >= $\":target-match-timestamp2\")\n",
    "    .groupBy($\":player\", $\":target-match-timestamp\")\n",
    "    .agg(sum(totalRankedOffPointsColumn).as(totalRankedOffPointsColumn), \n",
    "         sum(totalRankedDefPointsColumn).as(totalRankedDefPointsColumn))\n",
    "\n",
    "\n",
    "val b = a.withColumn(\"time\",  to_date( concat_ws(\"-\", year($\":target-match-timestamp\"), lit(\"01\") , lit(\"01\") ), \"yyyy-MM\"))\n",
    ".groupBy(\":player\", \"time\")\n",
    ".agg(max(totalRankedOffPointsColumn).as(totalRankedOffPointsColumn), \n",
    "         min(totalRankedDefPointsColumn).as(totalRankedDefPointsColumn))\n",
    "    .join(playerNameMapper, \":player\")\n",
    "\n",
    "\n",
    "Vegas(\"total ranked player points\")\n",
    "  .withDataFrame(b)\n",
    "  .mark(Line)\n",
    "  .encodeX(\"time\", Ordinal)\n",
    "  .encodeY(totalRankedOffPointsColumn, Quant)\n",
    "  .encodeColor(\n",
    "    field=\":name\",\n",
    "    dataType=Nominal,\n",
    "    legend=Legend(orient=\"left\", title=\"total ranked player points\"))\n",
    ".show\n",
    "\n",
    "Vegas(\"total ranked player points\")\n",
    "  .withDataFrame(b)\n",
    "  .mark(Line)\n",
    "  .encodeX(\"time\", Ordinal)\n",
    "  .encodeY(totalRankedDefPointsColumn, Quant)\n",
    "  .encodeColor(\n",
    "    field=\":name\",\n",
    "    dataType=Nominal,\n",
    "    legend=Legend(orient=\"left\", title=\"total ranked player points\"))\n",
    ".show\n"
   ]
  },
  {
   "cell_type": "code",
   "execution_count": null,
   "metadata": {},
   "outputs": [],
   "source": []
  }
 ],
 "metadata": {
  "kernelspec": {
   "display_name": "Scala",
   "language": "scala",
   "name": "scala"
  },
  "language_info": {
   "codemirror_mode": "text/x-scala",
   "file_extension": ".scala",
   "mimetype": "text/x-scala",
   "name": "scala",
   "nbconvert_exporter": "script",
   "version": "2.11.12"
  }
 },
 "nbformat": 4,
 "nbformat_minor": 2
}
