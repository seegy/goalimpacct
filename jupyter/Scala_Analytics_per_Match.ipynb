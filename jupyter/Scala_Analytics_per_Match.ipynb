{
 "cells": [
  {
   "cell_type": "code",
   "execution_count": null,
   "metadata": {},
   "outputs": [],
   "source": [
    "import $ivy.`org.vegas-viz::vegas:0.3.11`\n",
    "import $ivy.`org.apache.spark::spark-core:2.4.0`\n",
    "import $ivy.`org.apache.spark::spark-sql:2.4.0`\n",
    "import $ivy.`org.vegas-viz::vegas-spark:0.3.11`\n"
   ]
  },
  {
   "cell_type": "code",
   "execution_count": null,
   "metadata": {},
   "outputs": [],
   "source": [
    "import org.apache.spark.{SparkConf, SparkContext}\n",
    "import org.apache.spark.sql.{DataFrame, SaveMode, SparkSession}\n",
    "import vegas.sparkExt._\n",
    "import vegas._\n",
    "import org.apache.spark.sql.functions._"
   ]
  },
  {
   "cell_type": "code",
   "execution_count": null,
   "metadata": {},
   "outputs": [],
   "source": [
    "val CACHED_DATA_DIR = \"/goalimpacct/spark_data_cache/result_parquet\"\n"
   ]
  },
  {
   "cell_type": "code",
   "execution_count": null,
   "metadata": {},
   "outputs": [],
   "source": [
    "val conf = new SparkConf()\n",
    "conf.setMaster(s\"local[*]\")\n",
    "conf.setAppName(\"ShowHistory\")\n",
    "conf.set(\"spark.driver.host\", \"localhost\")\n",
    "val sc = new SparkContext(conf)\n",
    "sc.setLogLevel(\"ERROR\")\n",
    "\n",
    "val spark = SparkSession.builder.appName(\"ShowHistory\").getOrCreate()"
   ]
  },
  {
   "cell_type": "code",
   "execution_count": null,
   "metadata": {},
   "outputs": [],
   "source": [
    "import spark.implicits._    \n",
    "val rawDataDF = spark.sqlContext.read.parquet(CACHED_DATA_DIR)"
   ]
  },
  {
   "cell_type": "code",
   "execution_count": null,
   "metadata": {},
   "outputs": [],
   "source": [
    "rawDataDF.show()"
   ]
  },
  {
   "cell_type": "code",
   "execution_count": null,
   "metadata": {},
   "outputs": [],
   "source": []
  }
 ],
 "metadata": {
  "kernelspec": {
   "display_name": "Scala",
   "language": "scala",
   "name": "scala"
  },
  "language_info": {
   "codemirror_mode": "text/x-scala",
   "file_extension": ".scala",
   "mimetype": "text/x-scala",
   "name": "scala",
   "nbconvert_exporter": "script",
   "version": "2.11.12"
  }
 },
 "nbformat": 4,
 "nbformat_minor": 2
}
